{
  "cells": [
    {
      "metadata": {
        "collapsed": true
      },
      "cell_type": "markdown",
      "source": "## Nested Conditionals \n\nIf statements within if statements\n\n**if**  \n**&nbsp;&nbsp;&nbsp;&nbsp;if**  \n**&nbsp;&nbsp;&nbsp;&nbsp;&nbsp;&nbsp;&nbsp;&nbsp;if**  \n**&nbsp;&nbsp;&nbsp;&nbsp;&nbsp;&nbsp;&nbsp;&nbsp;else**  \n**&nbsp;&nbsp;&nbsp;&nbsp;else**  \n**else** \n    "
    },
    {
      "metadata": {
        "trusted": true
      },
      "cell_type": "code",
      "source": "## Sandwich Order example\n\norder = input('Please enter \"v\" for Veggie or \"c\" for cheese: ')\n\ndef sandwich_order(order):\n    if order.isalpha != True:\n        print ('Please only enter alphabets')\n\n    elif order.lower() == 'c':\n        cheese_type = input('Please enter \"c\" for cheddar or \"m\" for manchego: \"')\n        if cheese_type.lower() == 'c':\n            print ('Here is your cheddar cheese sandwich')\n        \n        elif cheese_type.lower() == 'm':\n            print ('Here is your manchengo cheese sandwich')\n        \n        else:\n            print('Please only enter \"m\" or \"c\"')\n    else:\n        order.lower() == 'v'\n        print ('Here is your veggie sandwich')\n            \nsandwich_order(order)\n    ",
      "execution_count": null,
      "outputs": []
    },
    {
      "metadata": {
        "trusted": true
      },
      "cell_type": "code",
      "source": "## Say Hello\n## Handle inputs other than yes/no\n\nhello = input ('Hello - Y / N for yes or no: ')\n\nif hello.isdigit() == True:\n    print ('Please only enter Y / N')\n    \nelif hello.lower() == 'y':\n    \n    sub_answer = input (\"Full Hello? y/n: \")\n    if sub_answer.lower() == 'y':\n        print('Hello')\n        \n    else:\n        sub_asnwer.lower() == 'n'\n        print('Hi')\n            \nelif hello.lower() == 'n':\n    print ('friendly nod')\n    \nelse:\n    print ('Please only enter \\\"y\\\" or \\\"n\\\" ')",
      "execution_count": null,
      "outputs": []
    },
    {
      "metadata": {
        "trusted": true
      },
      "cell_type": "code",
      "source": "## Guessing bird names\n\nbird_names = ('crow','parrot','eagle','sparrow','peacock')\nbird_guess = input('Guess the bird name: ')\n\nif bird_guess.lower() not in bird_names: \n    \n    sub_que_2 = input('Guess the bird name 2nd try: ')\n    if sub_que_2.lower() not in bird_names:\n    \n        sub_que_3 = input('Guess the bird name 3rd try: ')\n        if sub_que_3.lower() in bird_names:\n            print ('Yay 3rd try')\n        else:\n            print ('Sorry out of tries')\n        \n    else:\n        print ('yes 2nd try')\n            \nelse:\n    print ('Yay 1st try')           \n            \n",
      "execution_count": 1,
      "outputs": [
        {
          "output_type": "stream",
          "name": "stdout",
          "text": "Guess the bird name: bird\nGuess the bird name 2nd try: crow\nyes 2nd try\n"
        }
      ]
    },
    {
      "metadata": {},
      "cell_type": "markdown",
      "source": "### Escape Sequences\n- escape sequences all start with a backslash (**`\\`**) \n- escape sequences can be used to display characters in python reserved for formatting\n  - **`\\\\`** &nbsp; Backslash (**`\\`**)  \n  - **`\\'`** &nbsp; Single quote (**'**)  \n  - **`\\\"`** &nbsp; Double quote (**\"**)  \n\n\n- escape sequences are part of special formatting charcters\\n    Linefeed \n  - **`\\t`** &nbsp; Tab\n  - **`\\n`** &nbsp; return or newline\n\nWe use escape sequences in strings - usually with `print()` statements "
    },
    {
      "metadata": {
        "trusted": true
      },
      "cell_type": "code",
      "source": "# review and run example using \\n (new line)\nprint('Hello World!\\nI am formatting print ')",
      "execution_count": null,
      "outputs": []
    },
    {
      "metadata": {
        "trusted": true
      },
      "cell_type": "code",
      "source": "# review and run code using \\t (tab)\nstudent_age = 17\nstudent_name = \"Hiroto Yamaguchi\"\nprint(\"STUDENT NAME\\t\\tAGE\")\nprint(student_name,'\\t' , str(student_age))",
      "execution_count": null,
      "outputs": []
    },
    {
      "metadata": {
        "trusted": true
      },
      "cell_type": "code",
      "source": "# review and run code \n# using \\\" and \\' (escaped quotes)\nprint(\"\\\"quotes in quotes\\\"\")\nprint(\"I\\'ve said \\\"save your notebook,\\\" so let\\'s do it!\")\n\n# using  \\n (escaped backslash)\nprint(\"for a newline use \\nhiudfs\")",
      "execution_count": null,
      "outputs": []
    },
    {
      "metadata": {
        "trusted": true
      },
      "cell_type": "code",
      "source": " ## format using escape backlash \"\\\\\"\nprint (\"\\\\WARNING!\\\\\")",
      "execution_count": null,
      "outputs": []
    },
    {
      "metadata": {
        "trusted": true
      },
      "cell_type": "code",
      "source": "## print quotes with output \"\\\"\nprint(\"\\\"What's that?\\\" isn\\'t a specific question.\")",
      "execution_count": null,
      "outputs": []
    },
    {
      "metadata": {
        "trusted": true
      },
      "cell_type": "code",
      "source": "## print as header \"t\\t\" and return to new line \"\\n\"\n\nprint (\"one\\t\\ttwo\\t\\tthree\\nfour\\t\\tfive\\t\\tsix\")",
      "execution_count": null,
      "outputs": []
    },
    {
      "metadata": {
        "trusted": true
      },
      "cell_type": "code",
      "source": "check_input = input('enter a word that starts with \"pre\": ').lower()\n\ndef pre_word(check_input):\n    if check_input.startswith(\"pre\") != True:\n        return (\"not a pre word\")\n        if check_input.isalpha() != True:\n            return ('Only accept alpha')   \n        else:\n            return ('valid word')        \n    else:\n        return ('valid pre word')\n\npre_word(check_input)\n    ",
      "execution_count": null,
      "outputs": []
    },
    {
      "metadata": {
        "trusted": true
      },
      "cell_type": "code",
      "source": "print(\"Hello\\nWorld!\")",
      "execution_count": null,
      "outputs": []
    },
    {
      "metadata": {},
      "cell_type": "markdown",
      "source": "## While True Loop\nIt will loop forever until it encounters a break statement"
    },
    {
      "metadata": {
        "trusted": true
      },
      "cell_type": "code",
      "source": "number_guess = \"0\"\nsecret_number = \"5\"\n\nwhile True:\n    number_guess = input(\"guess the number 1 to 5: \")\n    if number_guess == secret_number:\n        print(\"Yes\", number_guess,\"is correct!\")\n        break\n    else:\n        print(number_guess,\"is incorrect\")",
      "execution_count": null,
      "outputs": []
    },
    {
      "metadata": {
        "trusted": true
      },
      "cell_type": "code",
      "source": "def create_variable():\n    while True:\n        familiar_name = input('Enter common name friends/family: ')\n        if familiar_name.isalpha():\n            print (\"Hello!\",familiar_name)\n            break\n        else:\n            print ('Try entering only alpha')\n            \ncreate_variable()           ",
      "execution_count": null,
      "outputs": []
    },
    {
      "metadata": {},
      "cell_type": "markdown",
      "source": "## Incrementing or Decrementing\n\n##While loop with increments : v = v + 1\n\n##While loop with decrements : v = v - 1"
    },
    {
      "metadata": {
        "trusted": true
      },
      "cell_type": "code",
      "source": "seat_count = 0\nwhile True:\n    \n    seat_count = seat_count + 1\n    print(\"seat count:\",seat_count)\n\n    if seat_count > 4:\n        break",
      "execution_count": null,
      "outputs": []
    },
    {
      "metadata": {
        "trusted": true
      },
      "cell_type": "code",
      "source": "seat_count = 0\nsoft_seats = 0\nhard_seats = 0\nnum_seats = 4\n\nwhile True:\n    seat_type = input('enter seat type of \"hard\",\"soft\" or \"exit\" (to finish): ')\n    \n    if seat_type.startswith(\"soft\"):\n        seat_count+=1\n    \n    elif seat_type.startswith(\"hard\"):\n        seat_count+=1\n        \n    elif seat_type.startswith(\"e\"):\n        print()\n        break\n        \n    else:\n        print ('Invalid entry will not be counted')\n        seat_count +=1\n        seat_count -=1\n    \n    if seat_count >= num_seats:\n        print (\"Seats are full\")\n        break\n        \n    ",
      "execution_count": null,
      "outputs": []
    },
    {
      "metadata": {
        "trusted": true
      },
      "cell_type": "code",
      "source": "shirt_count = 0\ntotal_count = 15\n\nsmall_count = 0\nmedium_count = 0\nlarge_count = 0\n\nsmall_cost = 0\nmedium_cost = 0\nlarge_cost = 0\n\n\nwhile True:\n    size = input ('Enter shirt size S,M,L or \"e\" for exit: ')\n\n    if size.lower().startswith(\"e\"):\n            print()\n            break\n        \n    elif size.lower().startswith(\"s\"):\n            small_count +=1\n            small_cost += 6\n        \n    elif size.lower().startswith(\"m\"):\n            medium_count +=1\n            medium_cost += 7\n        \n    elif size.lower().startswith(\"l\"):\n            large_count +=1\n            large_cost += 8\n    else:\n        print (\"Invalid entry will not be accepted\")\n        \n    shirt_count +=1\n    total_cost_count = small_cost + medium_cost + large_cost\n    \n    if shirt_count >= total_count:\n        print('Inventory over, sorry!')\n        break\nprint(shirt_count,\"Total count:\",small_count,\"small\",medium_count,\"medium and\",large_count,\"large\")\nprint ('Total \"S\" cost: ',small_cost)\nprint('Total \"M\" cost: ',medium_cost)\nprint('Total \"L\" cost: ',large_cost)\nprint ('Total cost is: ',total_cost_count)\n            ",
      "execution_count": null,
      "outputs": []
    },
    {
      "metadata": {
        "trusted": true
      },
      "cell_type": "markdown",
      "source": "## While loop Boolean comparison operators"
    },
    {
      "metadata": {
        "trusted": true
      },
      "cell_type": "code",
      "source": "greet_count = 5\n\n# loop while count is greater than 0\nwhile greet_count > 0:\n    print(greet_count, \"!\")\n    greet_count -= 1\nprint(\"\\nIGNITION!\")",
      "execution_count": null,
      "outputs": []
    },
    {
      "metadata": {
        "trusted": true
      },
      "cell_type": "code",
      "source": "def animal_names():\n    \n    animal_count = 4\n    all_animals = \"\"\n    \n    while animal_count > 0:\n        animal_input = input('Enter 4 animal names or \"e\" to exit: ')\n        \n        if animal_input.lower() == \"e\":\n            break  \n        \n        else:\n            all_animals += animal_input.capitalize() + \" \"\n            animal_count -= 1\n\n    # print(all_animals)    \n    if all_animals.istitle():\n        print(all_animals)\n    else:\n        print('\"no animals\"')\n\nanimal_names()",
      "execution_count": null,
      "outputs": []
    },
    {
      "metadata": {
        "trusted": true
      },
      "cell_type": "code",
      "source": "def learn_more():\n    \n    greeting = 'Hello'\n    name = input('What is your name? ')\n    \n    print (greeting,name)\n    \n    wish = 3\n    wish_store = \"\"\n    \n    while wish > 0:\n        \n        wish_list = input('What are the top 3 items on your wish list?\\nenter \"e to exit\" ')\n        \n        if wish_list.lower() == 'e':\n            break\n        else:\n            wish_store += wish_list + \"  \"\n            wish -= 1\n            \n    if wish == 0:\n            print()\n            print (\"Item: \",wish_store)\n            print()\n            print ('Thank you for your resopnses!')\n        \n        \nlearn_more()",
      "execution_count": null,
      "outputs": []
    },
    {
      "metadata": {
        "trusted": true
      },
      "cell_type": "code",
      "source": "def three_guesses():\n    \n    guess = 3\n    guess_store = \"\"\n    \n    while guess > 0:\n        \n        guess_input = input('Start guessing: ')\n    \n        if guess_input.lower() == \"e\":\n            break\n        \n        else:\n            guess_store += guess_input + \"  \"\n            guess -= 1\n            \n    \n    if guess == 0:\n        print (\"Guess's - \",guess_store)\n            \n        \n    \nthree_guesses()",
      "execution_count": null,
      "outputs": []
    },
    {
      "metadata": {},
      "cell_type": "markdown",
      "source": "## While Loop with Boolean String Test\n\n#name = \"\"\n\n#while name.isalpha() == False:\n       name = input('enter first name without space')\n       \n       # else:\n           # print (\"/n\" + name_input + \"recieved\")\n           "
    },
    {
      "metadata": {
        "trusted": true
      },
      "cell_type": "code",
      "source": "def long_number():\n    \n    long_num = \"\"\n    int_num = input ('Enter only digits: ')\n    \n    while int_num.isdigit():\n        long_num +=int_num \n        int_num = input ('Enter only digits: ')\n        \n    print(long_num)\n    \nlong_number()",
      "execution_count": null,
      "outputs": []
    },
    {
      "metadata": {
        "trusted": true
      },
      "cell_type": "code",
      "source": "# [ ] review the code, run, fix the Logic error\ncount = 6\n\n# loop 5 times\nwhile count > 0:\n    print(count, \"x\", count, \"=\", count*count)\n    count -=1\n    ",
      "execution_count": null,
      "outputs": []
    },
    {
      "metadata": {
        "trusted": true
      },
      "cell_type": "code",
      "source": "# [ ] review the code, run, fix the Logic error\ncount = 1\n\n# loop 5 times\nwhile count < 6:\n    print(count, \"x\", count, \"=\", count*count)\n    count +=1\n    ",
      "execution_count": null,
      "outputs": []
    },
    {
      "metadata": {},
      "cell_type": "markdown",
      "source": "## Tasks"
    },
    {
      "metadata": {
        "trusted": true
      },
      "cell_type": "code",
      "source": "print('The new line character is \"\\\\n\\\" ')",
      "execution_count": null,
      "outputs": []
    },
    {
      "metadata": {
        "trusted": true
      },
      "cell_type": "code",
      "source": "print ('\"That\\'s how we escape!\"')",
      "execution_count": null,
      "outputs": []
    },
    {
      "metadata": {
        "trusted": true
      },
      "cell_type": "code",
      "source": "print(\"1\\tone\\n22\\ttwo\\n333\\tthree\")",
      "execution_count": null,
      "outputs": []
    },
    {
      "metadata": {
        "trusted": true
      },
      "cell_type": "code",
      "source": "def quote_me(string):\n    \n    if string.startswith(\"\\\"\") :\n        print(\"\\'\"+ str(string) +\"\\'\")\n              \n    elif string.startswith('\\''):\n        print (\"\\\"\", str(string) ,\"\\\"\")\n    else:\n        print (\"\\\"\", str(string),\"\\\"\")\n        \ninput_string = input('Enter a word: ')\n    \nquote_me(input_string)\n    \n    ",
      "execution_count": null,
      "outputs": []
    },
    {
      "metadata": {
        "trusted": true
      },
      "cell_type": "code",
      "source": "def shirt_order():  \n    color = input('Which color shirt \"White\" or \"Blue\": ').lower()\n    \n    if color.startswith(\"w\") == True:\n        \n        size = input('What size \"S\", \"M\",\"L\": ').lower()\n    \n        if size.startswith(\"s\"):\n            print (color.upper(),\"in\",size.upper(),\"unavailable\")\n        elif size.startswith(\"m\"):\n            print(color.upper(),\"in\",size.upper(),\"available\")\n        elif size.startswith(\"l\"):\n            print(color.upper(),\"in\",size.upper(),\"available\")\n        else:\n            print('please only enter S,M or L')\n            \n    elif color.startswith(\"b\")== True :\n        \n        size = input('What size \"S\", \"M\",\"L\": ').lower()\n    \n        if size.startswith(\"s\"):\n            print(color.upper(),\"in\",size.upper(),\"available\")\n        elif size.startswith(\"m\"):\n            print(color.upper(),\"in\",size.upper(),\"available\")\n        elif size.startswith('l'):\n            print (color.upper(),\"in\",size.upper(),\"unavailable\")\n        else:\n            print('please only enter S,M or L')\n    else:\n        print('please only enter S,M or L')\n\nshirt_order()\n            \n    ",
      "execution_count": null,
      "outputs": []
    },
    {
      "metadata": {
        "trusted": true
      },
      "cell_type": "code",
      "source": "def ticket_check(section,seats_requested):\n    \n    if section.startswith(\"g\"):\n        if int(seats_requested) <= 10:\n            return True\n        else:\n            return False\n    elif section.startswith(\"f\"):\n        if int(seats_requested) <= 4:\n            return True\n        else:\n            return False\n    else:\n        print ('Please choose General or Floor only')\n\nticket_check(\"floor\",\"4\")\n        ",
      "execution_count": null,
      "outputs": []
    },
    {
      "metadata": {
        "trusted": true
      },
      "cell_type": "code",
      "source": "def str_analysis(check_string):\n    \n    if check_string.isdigit() == True:\n        check_string = int(check_string)\n        if check_string > 99:\n            print(\"big number:\",check_string)\n        else:\n            check_string < 99\n            print(\"small number: \",check_string)   \n        \n    elif check_string.isdigit() == False:\n         if check_string.isalpha() == True:\n                print(\"All alpha: \",check_string)\n    else:\n        print(check_string,\":String is neither all alpha or all digits\")\n\nstr_analysis(\"22\")\n        ",
      "execution_count": null,
      "outputs": []
    },
    {
      "metadata": {
        "trusted": true
      },
      "cell_type": "code",
      "source": "def check(check_integer):\n\n    while True:\n        check_integer = input(\"enter an integer to add to itself: \")\n        if check_integer.isdigit():\n            check_integer = int(check_integer)\n            check_integer += check_integer\n            print (\"Sum is: \",check_integer)\n        else:\n        ##check_integer.isalpha() == True\n            print (\"sum = 0\")\n            break\n\ncheck(check_integer)",
      "execution_count": 9,
      "outputs": [
        {
          "output_type": "stream",
          "name": "stdout",
          "text": "enter an integer to add to itself: 2\nSum is:  4\nenter an integer to add to itself: e\nsum = 0\n"
        }
      ]
    },
    {
      "metadata": {
        "trusted": true
      },
      "cell_type": "code",
      "source": "rainbow = (\"red\", \"orange\", \"yellow\" ,\"green\", \"blue\", \"indigo\", \"violet\")\nchance_count = 4  \n \ncolor_input = input('Enter one correct color from the rainbow: ').lower()\nif color_input not in rainbow:\n    print ('incorrect 1st')\n    chance_count -=1\n    sub_que_1 = input('Enter one correct color from the rainbow: ').lower()\n    if sub_que_1 not in rainbow:\n        print ('incorrect 2nd')\n        chance_count -=1\n        sub_que_2 = input('Enter one correct color from the rainbow: ').lower()\n        if sub_que_2 not in rainbow:\n            print ('incorrect 3rd')\n            chance_count -=1\n            sub_que_3 = input('Enter one correct color from the rainbow: ').lower()\n            if sub_que_3 in rainbow:\n                print ('correct in 4th attempt')\n                chance_count -=1 \n            else:\n                print (\"Sorry out of attempts\")\n        else:\n            print(\"correct in 3rd attempt\")\n    else:\n        print(\"correct in 2nd attempt\")\nelse:\n    print (\"Correct in 1st attempt\")\n        ",
      "execution_count": 2,
      "outputs": [
        {
          "output_type": "stream",
          "name": "stdout",
          "text": "Enter one correct color from the rainbow: red\nCorrect in 1st attempt\n"
        }
      ]
    },
    {
      "metadata": {
        "trusted": true
      },
      "cell_type": "code",
      "source": "rainbow = (\"red\", \"orange\", \"yellow\" ,\"green\", \"blue\", \"indigo\", \"violet\")\nchance_count = 4\n\nwhile True:\n    color_input = input('Enter one correct color from the rainbow: ').lower()\n    \n    if color_input in rainbow:\n        print ('Yay you got it')\n        break\n    else:\n        chance_count -=1\n    \n    if chance_count >= 4:\n        print ('out of tries')\n        break\n    \n    ",
      "execution_count": 1,
      "outputs": [
        {
          "output_type": "stream",
          "name": "stdout",
          "text": "Enter one correct color from the rainbow: orange\nYay you got it\n"
        }
      ]
    },
    {
      "metadata": {
        "trusted": true
      },
      "cell_type": "code",
      "source": "while True:\n    book_title = input('Enter a Book Title: ')\n    \n    if book_title.istitle():\n        print (\"Book Title: \",book_title)\n        break",
      "execution_count": 3,
      "outputs": [
        {
          "output_type": "stream",
          "name": "stdout",
          "text": "Enter a Book Title: yay\nEnter a Book Title: Mother Sun\nBook Title:  Mother Sun\n"
        }
      ]
    },
    {
      "metadata": {
        "trusted": true
      },
      "cell_type": "code",
      "source": "while True:\n    math_quiz = input('What is 2 * 3 = ')\n    solution = \"6\"\n    \n    if math_quiz == solution:\n        print (\"The solution to 2 * 3 = \",math_quiz)\n        break\n    else:\n        print('Please enter correct solution')",
      "execution_count": 1,
      "outputs": [
        {
          "output_type": "stream",
          "name": "stdout",
          "text": "What is 2 * 3 = 6\nThe solution to 2 * 3 =  6\n"
        }
      ]
    },
    {
      "metadata": {
        "trusted": true
      },
      "cell_type": "code",
      "source": "tickets = int(input(\"enter tickets remaining (0 to quit): \"))\n\nwhile tickets > 0:\n        # if tickets are multiple of 3 then \"winner\"\n    if int(tickets/3) == True:\n        print(\"you win!\")\n    else:\n        print(\"sorry, not a winner.\")\n    tickets = int(input(\"enter tickets remaining (0 to quit): \"))\n\nprint(\"Game ended\")",
      "execution_count": 2,
      "outputs": [
        {
          "output_type": "stream",
          "name": "stdout",
          "text": "enter tickets remaining (0 to quit): 5\nyou win!\nenter tickets remaining (0 to quit): 0\nGame ended\n"
        }
      ]
    },
    {
      "metadata": {
        "trusted": true
      },
      "cell_type": "code",
      "source": "def quiz_item(question,solution): \n    while True:\n        answer = input(\"/n\" + question)\n        if answer == solution:\n            return True\n        else: \n            print ('False')\n            \n            \n        \nquiz_item(\"Is India in Asia\",\"True\")\nquiz_item(\"Is India near Nepal\",\"True\")\nquiz_item(\"Is Mexico in Africa\",\"False\")\n    ",
      "execution_count": null,
      "outputs": []
    },
    {
      "metadata": {
        "trusted": true
      },
      "cell_type": "code",
      "source": "def str_analysis(string_input):     \n    \n    if string_input.isdigit():\n        string_input = int(string_input)\n                \n        if string_input > 99:\n            return (string_input,'is a big number')\n        else:\n            return (string_input,'is a small number')\n                \n    elif string_input.isdigit() == False:\n        if string_input.isalpha() == True:\n            return \"\\\"\" + string_input + \"\\\"\"+'is all alphabetical characters!'  \n        \n    else: \n        return \"\\\"\" + string_input + \"\\\"\" + 'is all multiple character types'\n        \n        \nget_string = \"\"\n\nwhile True:\n    get_string = input('enter word or integer: ')\n    if get_string == \"\":\n        pass\n    else:\n        print(str_analysis(get_string))\n        break\n             \nstr_analysis(\"string_input\")",
      "execution_count": 6,
      "outputs": [
        {
          "output_type": "stream",
          "name": "stdout",
          "text": "enter word or integer: 1024\n(1024, 'is a big number')\n"
        }
      ]
    },
    {
      "metadata": {
        "trusted": true
      },
      "cell_type": "code",
      "source": "",
      "execution_count": null,
      "outputs": []
    },
    {
      "metadata": {
        "trusted": true
      },
      "cell_type": "code",
      "source": "",
      "execution_count": null,
      "outputs": []
    }
  ],
  "metadata": {
    "kernelspec": {
      "name": "python3",
      "display_name": "Python 3",
      "language": "python"
    },
    "language_info": {
      "mimetype": "text/x-python",
      "nbconvert_exporter": "python",
      "name": "python",
      "pygments_lexer": "ipython3",
      "version": "3.5.4",
      "file_extension": ".py",
      "codemirror_mode": {
        "version": 3,
        "name": "ipython"
      }
    }
  },
  "nbformat": 4,
  "nbformat_minor": 2
}