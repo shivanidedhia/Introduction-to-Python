{
  "cells": [
    {
      "metadata": {
        "trusted": true
      },
      "cell_type": "code",
      "source": "#create simple functions with def\ndef say_hi():\n    print ('Hello')\n    print ('Goodbye')\n\n#end of function is denoted by returning no indentation",
      "execution_count": 1,
      "outputs": []
    },
    {
      "metadata": {
        "trusted": true
      },
      "cell_type": "code",
      "source": "say_hi()",
      "execution_count": 2,
      "outputs": [
        {
          "output_type": "stream",
          "text": "Hello\nGoodbye\n",
          "name": "stdout"
        }
      ]
    },
    {
      "metadata": {
        "trusted": true
      },
      "cell_type": "code",
      "source": "def yell_it():\n    phrase = input('what do you want to say?')\n    print(phrase.upper(), \"!\")\n    ",
      "execution_count": 18,
      "outputs": []
    },
    {
      "metadata": {
        "trusted": true
      },
      "cell_type": "code",
      "source": "yell_it()",
      "execution_count": 19,
      "outputs": [
        {
          "output_type": "stream",
          "name": "stdout",
          "text": "what do you want to say?peace\nPEACE !\n"
        }
      ]
    },
    {
      "metadata": {
        "trusted": true
      },
      "cell_type": "code",
      "source": "# Adding parameters to your function\ndef yell_itt(phrase):\n    print(phrase.upper(),\"!\")\n\nyell_itt('Good morning')\n    ",
      "execution_count": 20,
      "outputs": [
        {
          "output_type": "stream",
          "text": "GOOD MORNING !\n",
          "name": "stdout"
        }
      ]
    },
    {
      "metadata": {
        "trusted": true
      },
      "cell_type": "code",
      "source": "#if a default value is added, it will only be used \n#when no user value is added\n\ndef yell(phrase = 'Sorry no value was added'):\n    print(phrase.upper(),\"!\")\n    ",
      "execution_count": 1,
      "outputs": []
    },
    {
      "metadata": {
        "trusted": true
      },
      "cell_type": "code",
      "source": "#no default value is added\nyell()",
      "execution_count": 2,
      "outputs": [
        {
          "output_type": "stream",
          "text": "SORRY NO VALUE WAS ADDED !\n",
          "name": "stdout"
        }
      ]
    },
    {
      "metadata": {
        "trusted": true
      },
      "cell_type": "code",
      "source": "# Message double returns the string Argument doubled\ndef msg_double(phrase):\n      double = phrase + \" \" + phrase\n      return double\n\n# save return value in variable\nmsg_2x = msg_double(\"let's go\")\nprint(msg_2x)",
      "execution_count": 7,
      "outputs": [
        {
          "output_type": "stream",
          "text": "let's go let's go\n",
          "name": "stdout"
        }
      ]
    },
    {
      "metadata": {
        "trusted": true
      },
      "cell_type": "code",
      "source": "print(msg_double(\"Save Now!\"))",
      "execution_count": 4,
      "outputs": [
        {
          "output_type": "stream",
          "text": "Save Now! Save Now!\n",
          "name": "stdout"
        }
      ]
    },
    {
      "metadata": {
        "trusted": true
      },
      "cell_type": "code",
      "source": "# a function that adds the \"Doctor\" title to a name\n\ndef make_doctor(name):\n    full_name = input('What is your name? ')\n    return print (name,full_name)",
      "execution_count": 10,
      "outputs": []
    },
    {
      "metadata": {
        "trusted": true,
        "scrolled": true
      },
      "cell_type": "code",
      "source": "make_doctor('Doctor')",
      "execution_count": 11,
      "outputs": [
        {
          "output_type": "stream",
          "name": "stdout",
          "text": "What is your name? shiv\nDoctor shiv\n"
        }
      ]
    },
    {
      "metadata": {
        "trusted": true
      },
      "cell_type": "code",
      "source": "#return function - custom function used with multiple parameters\n\ndef make_schedule(period1, period2,period3):\n    schedule = (\"[1st] \" + period1.title() + \", [2nd] \" + period2.title() +\", [3rd] \"+ period3.title())\n    return schedule\n\nstudent_schedule = make_schedule(\"mathematics\", \"history\",\"science\")\nprint(\"SCHEDULE:\", student_schedule)",
      "execution_count": 13,
      "outputs": [
        {
          "output_type": "stream",
          "text": "SCHEDULE: [1st] Mathematics, [2nd] History, [3rd] Science\n",
          "name": "stdout"
        }
      ]
    },
    {
      "metadata": {
        "trusted": true
      },
      "cell_type": "code",
      "source": "def hat_available(color):\n    hat_colors = ('black,red,blue,green,white,grey,brown,pink')\n    #return boolean\n    return(color.lower() in hat_colors)",
      "execution_count": 5,
      "outputs": []
    },
    {
      "metadata": {
        "trusted": true
      },
      "cell_type": "code",
      "source": "#using variables for color to avoid hard coding\ncolor = 'green'\nhave_hat = hat_available(color)  \n  \nprint('hat available is', have_hat)",
      "execution_count": 7,
      "outputs": [
        {
          "output_type": "stream",
          "text": "hat available is True\n",
          "name": "stdout"
        }
      ]
    },
    {
      "metadata": {
        "trusted": true
      },
      "cell_type": "code",
      "source": "def bird_available(birdname):\n    bird_types = ('crow',\"robin\",\"parrot\",\"eagle\",\"sandpiper\",\"hawk\",\"piegon\")\n    return (birdname.lower() in bird_types)\n\nhave_bird = bird_available(input().lower())\nprint('the entered value is',have_bird)",
      "execution_count": 3,
      "outputs": [
        {
          "output_type": "stream",
          "name": "stdout",
          "text": "crow\nthe entered value is True\n"
        }
      ]
    },
    {
      "metadata": {
        "trusted": true
      },
      "cell_type": "code",
      "source": "def how_many():\n    requested = input(\"enter how many you want: \")\n    return requested\n\n# get the number_needed\nnumber_needed = how_many()\nprint(number_needed, \"will be ordered\")\n",
      "execution_count": 5,
      "outputs": [
        {
          "output_type": "stream",
          "name": "stdout",
          "text": "enter how many you want: 2\n2 will be ordered\n"
        }
      ]
    },
    {
      "metadata": {
        "trusted": true
      },
      "cell_type": "code",
      "source": "fish_entry = input('What is the fish type? ')    \nprice_entry = input ('Cost is ')\n\ndef fishstore(fish,price):\n    return (fish_entry, price_entry)\n\nprint ('Fish Type ',fish_entry.title(), 'cost', price_entry)",
      "execution_count": 12,
      "outputs": [
        {
          "output_type": "stream",
          "name": "stdout",
          "text": "What is the fish type? Nemo\nCost is$2\nFish Type  Nemo cost $2\n"
        }
      ]
    },
    {
      "metadata": {
        "trusted": true
      },
      "cell_type": "code",
      "source": "grade = int(input(\"enter your grade: \"))\ncounter = 1\n\nwhile grade != \"stop\":\n    grade += grade\n    counter += 1\n\nprint ((grade/counter) + \"is your average\")",
      "execution_count": 3,
      "outputs": [
        {
          "output_type": "stream",
          "name": "stdout",
          "text": "enter your grade: 2\n"
        },
        {
          "output_type": "error",
          "ename": "KeyboardInterrupt",
          "evalue": "",
          "traceback": [
            "\u001b[0;31m---------------------------------------------------------------------------\u001b[0m",
            "\u001b[0;31mKeyboardInterrupt\u001b[0m                         Traceback (most recent call last)",
            "\u001b[0;32m<ipython-input-3-ebd2f4a392ad>\u001b[0m in \u001b[0;36m<module>\u001b[0;34m()\u001b[0m\n\u001b[1;32m      4\u001b[0m \u001b[0;34m\u001b[0m\u001b[0m\n\u001b[1;32m      5\u001b[0m \u001b[0;32mwhile\u001b[0m \u001b[0mgrade\u001b[0m \u001b[0;34m!=\u001b[0m \u001b[0;34m\"stop\"\u001b[0m\u001b[0;34m:\u001b[0m\u001b[0;34m\u001b[0m\u001b[0m\n\u001b[0;32m----> 6\u001b[0;31m     \u001b[0mgrade\u001b[0m \u001b[0;34m+=\u001b[0m \u001b[0mgrade\u001b[0m\u001b[0;34m\u001b[0m\u001b[0m\n\u001b[0m\u001b[1;32m      7\u001b[0m     \u001b[0mcounter\u001b[0m \u001b[0;34m+=\u001b[0m \u001b[0;36m1\u001b[0m\u001b[0;34m\u001b[0m\u001b[0m\n\u001b[1;32m      8\u001b[0m \u001b[0;34m\u001b[0m\u001b[0m\n",
            "\u001b[0;31mKeyboardInterrupt\u001b[0m: "
          ]
        }
      ]
    },
    {
      "metadata": {
        "trusted": true
      },
      "cell_type": "code",
      "source": "while grade != \"stop\":\n    grade += grade\n    counter += 1\n\nprint ((grade/counter) + \"is your average\")",
      "execution_count": null,
      "outputs": []
    },
    {
      "metadata": {
        "trusted": true
      },
      "cell_type": "code",
      "source": "grade = \"stop\"\ncounter = 0\n\nwhile grade != \"stop:\n    grade += grade\n    counter += 1\n    grade = int(input(\"enter your grade: \"))\n\nprint (str(grade/counter) + \"is your average\")",
      "execution_count": null,
      "outputs": []
    },
    {
      "metadata": {
        "trusted": true
      },
      "cell_type": "code",
      "source": "",
      "execution_count": null,
      "outputs": []
    }
  ],
  "metadata": {
    "kernelspec": {
      "name": "python3",
      "display_name": "Python 3",
      "language": "python"
    },
    "language_info": {
      "mimetype": "text/x-python",
      "nbconvert_exporter": "python",
      "name": "python",
      "pygments_lexer": "ipython3",
      "version": "3.5.4",
      "file_extension": ".py",
      "codemirror_mode": {
        "version": 3,
        "name": "ipython"
      }
    }
  },
  "nbformat": 4,
  "nbformat_minor": 2
}