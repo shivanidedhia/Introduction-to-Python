{
  "cells": [
    {
      "metadata": {
        "collapsed": true
      },
      "cell_type": "markdown",
      "source": "## Final adding_report() Assignment"
    },
    {
      "metadata": {
        "trusted": true
      },
      "cell_type": "code",
      "source": "def adding_report():\n    \n    items_variable = \"/n\"\n    total_variable = 0\n    sum_input = input ('Report Types include All Items (A) or Total only (T)\\nChoose Report Type (\"A\" or \"T\")')\n    \n    while True:\n        \n        integer = input('Enter an integer or \"Q\": ')\n        \n        if integer.isdigit():\n            integer = int(integer)\n            total_variable+=integer\n            \n            if sum_input.upper() == \"A\":\n                integer = str(integer)\n                items_variable += integer + \"\\n\"\n                \n        elif integer.upper().startswith('Q'):\n            \n            if sum_input(\"A\"):\n                print(\"\\nItems\"+str(items_variable)+\"Total\\n\"+str(total_variable))\n            else:\n                print(\"\\nTotal\\n\",str(total_variable))\n            break\n            \n        else:\n            print(\"input is invalid\")\n            \nadding_report()",
      "execution_count": 8,
      "outputs": [
        {
          "output_type": "stream",
          "name": "stdout",
          "text": "Report Types include All Items (A) or Total only (T)\nChoose Report Type (\"A\" or \"T\")A\nEnter an integer or \"Q\": 2\nEnter an integer or \"Q\": 1\nEnter an integer or \"Q\": 3\nEnter an integer or \"Q\": q\n"
        },
        {
          "output_type": "error",
          "ename": "TypeError",
          "evalue": "'str' object is not callable",
          "traceback": [
            "\u001b[0;31m---------------------------------------------------------------------------\u001b[0m",
            "\u001b[0;31mTypeError\u001b[0m                                 Traceback (most recent call last)",
            "\u001b[0;32m<ipython-input-8-d973898604d2>\u001b[0m in \u001b[0;36m<module>\u001b[0;34m()\u001b[0m\n\u001b[1;32m     32\u001b[0m             \u001b[0mprint\u001b[0m\u001b[0;34m(\u001b[0m\u001b[0;34m\"input is invalid\"\u001b[0m\u001b[0;34m)\u001b[0m\u001b[0;34m\u001b[0m\u001b[0m\n\u001b[1;32m     33\u001b[0m \u001b[0;34m\u001b[0m\u001b[0m\n\u001b[0;32m---> 34\u001b[0;31m \u001b[0madding_report\u001b[0m\u001b[0;34m(\u001b[0m\u001b[0;34m)\u001b[0m\u001b[0;34m\u001b[0m\u001b[0m\n\u001b[0m",
            "\u001b[0;32m<ipython-input-8-d973898604d2>\u001b[0m in \u001b[0;36madding_report\u001b[0;34m()\u001b[0m\n\u001b[1;32m     19\u001b[0m         \u001b[0;32melif\u001b[0m \u001b[0minteger\u001b[0m\u001b[0;34m.\u001b[0m\u001b[0mupper\u001b[0m\u001b[0;34m(\u001b[0m\u001b[0;34m)\u001b[0m\u001b[0;34m.\u001b[0m\u001b[0mstartswith\u001b[0m\u001b[0;34m(\u001b[0m\u001b[0;34m'Q'\u001b[0m\u001b[0;34m)\u001b[0m\u001b[0;34m:\u001b[0m\u001b[0;34m\u001b[0m\u001b[0m\n\u001b[1;32m     20\u001b[0m \u001b[0;34m\u001b[0m\u001b[0m\n\u001b[0;32m---> 21\u001b[0;31m             \u001b[0;32mif\u001b[0m \u001b[0msum_input\u001b[0m\u001b[0;34m(\u001b[0m\u001b[0;34m\"A\"\u001b[0m\u001b[0;34m)\u001b[0m\u001b[0;34m:\u001b[0m\u001b[0;34m\u001b[0m\u001b[0m\n\u001b[0m\u001b[1;32m     22\u001b[0m                 \u001b[0mprint\u001b[0m \u001b[0;34m(\u001b[0m\u001b[0;34m\"\\nItems\"\u001b[0m\u001b[0;34m)\u001b[0m\u001b[0;34m\u001b[0m\u001b[0m\n\u001b[1;32m     23\u001b[0m                 \u001b[0mprint\u001b[0m\u001b[0;34m(\u001b[0m\u001b[0mstr\u001b[0m\u001b[0;34m(\u001b[0m\u001b[0mitems_variable\u001b[0m\u001b[0;34m)\u001b[0m\u001b[0;34m)\u001b[0m\u001b[0;34m\u001b[0m\u001b[0m\n",
            "\u001b[0;31mTypeError\u001b[0m: 'str' object is not callable"
          ]
        }
      ]
    },
    {
      "metadata": {
        "trusted": true
      },
      "cell_type": "code",
      "source": "def adding_report(report=\"T\"):\n    total = 0\n    items = \"\"\n    while True:\n        int_input = input(\"Input an integer to add to the total or Q to quit: \")\n        if int_input.isdigit() == True:\n            total = int(total) + int(int_input)\n            if report.upper() == \"A\":\n                items = items + int_input + \"\\n\"\n            elif int_input.upper().startswith(\"Q\") == True:\n                if report.upper() == \"A\":\n                    print(\"\\n\" + \"Items: \" +  \"\\n\" + str(items))\n                    print(\"Total: \" + str(total))\n                    break\n                elif report.upper() == \"T\":\n                    print(\"\\n\" + \"Total: \" + str(total))\n                    break\n    else:\n          print(\"Invalid input.\")\n            \nadding_report(\"A\")\n",
      "execution_count": null,
      "outputs": []
    },
    {
      "metadata": {
        "trusted": true
      },
      "cell_type": "code",
      "source": "",
      "execution_count": null,
      "outputs": []
    }
  ],
  "metadata": {
    "kernelspec": {
      "name": "python3",
      "display_name": "Python 3",
      "language": "python"
    },
    "language_info": {
      "mimetype": "text/x-python",
      "nbconvert_exporter": "python",
      "name": "python",
      "file_extension": ".py",
      "version": "3.5.4",
      "pygments_lexer": "ipython3",
      "codemirror_mode": {
        "version": 3,
        "name": "ipython"
      }
    }
  },
  "nbformat": 4,
  "nbformat_minor": 2
}