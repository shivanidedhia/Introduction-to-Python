{
  "cells": [
    {
      "metadata": {},
      "cell_type": "markdown",
      "source": "## if/else/pass condition"
    },
    {
      "metadata": {
        "trusted": true
      },
      "cell_type": "code",
      "source": "#using boolean with if/else\n# be careful of the syntax\n\n# First declare variable as true or false\nsunny_today = True\n\n# the format checks if true then this, else false then this\nif sunny_today:\n    print('Enjoy the sunny day!')\nelse:\n    print ('Lets wait for a sunny day!')",
      "execution_count": 2,
      "outputs": [
        {
          "output_type": "stream",
          "text": "Enjoy the sunny day!\n",
          "name": "stdout"
        }
      ]
    },
    {
      "metadata": {
        "trusted": true
      },
      "cell_type": "code",
      "source": "student_present = False\n\nif student_present:\n    input ('Name: ')\n    print('present')\nelse:\n    print ('absent')",
      "execution_count": 1,
      "outputs": [
        {
          "output_type": "stream",
          "text": "absent\n",
          "name": "stdout"
        }
      ]
    },
    {
      "metadata": {},
      "cell_type": "markdown",
      "source": "## To check with istitle(), islower(), isupper()"
    },
    {
      "metadata": {
        "trusted": true
      },
      "cell_type": "code",
      "source": "favorite_book = input(\"Enter the title of a favorite book: \")\n\nif favorite_book.istitle():\n    print(favorite_book, \"- nice capitalization in that title!\")\nelse:\n    print(favorite_book, \"- consider capitalization throughout for book titles.\")\n    ",
      "execution_count": 4,
      "outputs": [
        {
          "output_type": "stream",
          "name": "stdout",
          "text": "Enter the title of a favorite book: Sunny Days\nSunny Days - nice capitalization in that title!\n"
        }
      ]
    },
    {
      "metadata": {
        "trusted": true
      },
      "cell_type": "code",
      "source": "test_string_1 = \"welcome\"\ntest_string_2 = \"I have $3\"\n\nif test_string_1.islower():\n    print ('Good Job for it is all lower case')\nelse:\n    print('Ensure it is all lower case')\n    \nif test_string_2.islower():\n    print ('Good Job for it is all lower case')\nelse:\n    print('Ensure it is all lower case')",
      "execution_count": 5,
      "outputs": [
        {
          "output_type": "stream",
          "text": "Good Job for it is all lower case\nEnsure it is all lower case\n",
          "name": "stdout"
        }
      ]
    },
    {
      "metadata": {},
      "cell_type": "markdown",
      "source": "## Pass condition (if/else/pass)"
    },
    {
      "metadata": {
        "trusted": true
      },
      "cell_type": "code",
      "source": "# a function used to test if a word starts with w\n# ensure correct punctuation is there where req.\n#using pass will make sure the function does not do anything\n\ndef w_start_test(test_string):\n    if test_string.startswith('w'):\n        print('Great it starts with w')\n    else:\n        pass\n        ",
      "execution_count": 8,
      "outputs": []
    },
    {
      "metadata": {
        "trusted": true
      },
      "cell_type": "code",
      "source": "w_start_test(test_string_1)",
      "execution_count": 9,
      "outputs": [
        {
          "output_type": "stream",
          "text": "Great it starts with w\n",
          "name": "stdout"
        }
      ]
    },
    {
      "metadata": {},
      "cell_type": "markdown",
      "source": "# comparison operators"
    },
    {
      "metadata": {
        "trusted": true
      },
      "cell_type": "code",
      "source": "3 <= 5",
      "execution_count": 12,
      "outputs": [
        {
          "output_type": "execute_result",
          "execution_count": 12,
          "data": {
            "text/plain": "True"
          },
          "metadata": {}
        }
      ]
    },
    {
      "metadata": {
        "trusted": true
      },
      "cell_type": "code",
      "source": "# assign x equal to 3\nx = 3\n\n# test if x is equal to\nx == 9",
      "execution_count": 13,
      "outputs": [
        {
          "output_type": "execute_result",
          "execution_count": 13,
          "data": {
            "text/plain": "False"
          },
          "metadata": {}
        }
      ]
    },
    {
      "metadata": {},
      "cell_type": "markdown",
      "source": "## x ! = 9 \"X is not equal to 9\""
    },
    {
      "metadata": {
        "trusted": true
      },
      "cell_type": "code",
      "source": "x = 3\nprint(\"x not equal 9 is\", x != 9)\nprint(\"x equal 3 is\", x == 3)",
      "execution_count": 15,
      "outputs": [
        {
          "output_type": "stream",
          "text": "x not equal 9 is True\nx equal 3 is True\n",
          "name": "stdout"
        }
      ]
    },
    {
      "metadata": {
        "trusted": true
      },
      "cell_type": "code",
      "source": "x = 9 + 4\nprint ('x is equal to 13', x==13)",
      "execution_count": 17,
      "outputs": [
        {
          "output_type": "stream",
          "text": "x is equal to 13 True\n",
          "name": "stdout"
        }
      ]
    },
    {
      "metadata": {
        "trusted": true
      },
      "cell_type": "code",
      "source": "a = 3 + 3 \nb = 2 +4\nprint('3+3 is greater than 2+4', a > b)",
      "execution_count": 18,
      "outputs": [
        {
          "output_type": "stream",
          "text": "3+3 is greater than 2+4 False\n",
          "name": "stdout"
        }
      ]
    },
    {
      "metadata": {},
      "cell_type": "markdown",
      "source": "## If else with comparision operators"
    },
    {
      "metadata": {
        "trusted": true
      },
      "cell_type": "code",
      "source": "# DON'T ASSIGN (x = 2) when you mean to COMPARE (x == 2)\nx = 2\n\nif x == 2:\n    print('\"==\" tests for, is equal to')\nelse:\n    pass",
      "execution_count": 19,
      "outputs": [
        {
          "output_type": "stream",
          "text": "\"==\" tests for, is equal to\n",
          "name": "stdout"
        }
      ]
    },
    {
      "metadata": {
        "trusted": true
      },
      "cell_type": "code",
      "source": "y = x + 8\nx = 3\n\nif y < x+x:\n    print ('y is greater than x + x is TRUE')\nelse:\n    print ('y is greater than x + x is FALSE')",
      "execution_count": 23,
      "outputs": [
        {
          "output_type": "stream",
          "text": "y is greater than x + x is FALSE\n",
          "name": "stdout"
        }
      ]
    },
    {
      "metadata": {},
      "cell_type": "markdown",
      "source": "## String comparision"
    },
    {
      "metadata": {},
      "cell_type": "markdown",
      "source": "\n#Strings can be equal == or unequal !=\n#Strings can be greater than > or less than <\n#alphabetically \"A\" is less than \"B\"\n#lower case \"a\" is greater than upper case \"A\""
    },
    {
      "metadata": {
        "trusted": true
      },
      "cell_type": "code",
      "source": "string_compare_1 = \"hello\" < \"Hello\"\n\nif string_compare_1:\n    print ('Good')\nelse:\n    print('Not True')",
      "execution_count": 25,
      "outputs": [
        {
          "output_type": "stream",
          "text": "Not True\n",
          "name": "stdout"
        }
      ]
    },
    {
      "metadata": {
        "trusted": true
      },
      "cell_type": "code",
      "source": "string_compare_2 = \"Aardvark\" > \"Zebra\"\n\nif string_compare_2:\n    print ('Good')\nelse:\n    print('Not True')",
      "execution_count": 26,
      "outputs": [
        {
          "output_type": "stream",
          "text": "Not True\n",
          "name": "stdout"
        }
      ]
    },
    {
      "metadata": {
        "trusted": true
      },
      "cell_type": "code",
      "source": "## student is not equal to Student (capital letter)\n\nstring_compare_3 = 'student' != 'Student'\n\nif string_compare_3:\n    print(\"'student' >= 'Student' is\", 'student' >= 'Student')\nelse:\n    print(\"'student' != 'Student' is\", 'student' != 'Student')",
      "execution_count": 27,
      "outputs": [
        {
          "output_type": "stream",
          "text": "'student' >= 'Student' is True\n",
          "name": "stdout"
        }
      ]
    },
    {
      "metadata": {
        "trusted": true
      },
      "cell_type": "code",
      "source": "msg = \"Hello\"\n\nif msg:\n    print(\"message equals Hello\")\n    \nelse:\n    print (\"message not equals Hello\")",
      "execution_count": 28,
      "outputs": [
        {
          "output_type": "stream",
          "text": "message equals Hello\n",
          "name": "stdout"
        }
      ]
    },
    {
      "metadata": {
        "trusted": true
      },
      "cell_type": "code",
      "source": "greeting = \"Hello\"\nmsg = input ('Say \"Hello\"')\n\nif msg == greeting:\n    print ('Great Job')\nelse:\n    second = input('Try again: ')\n    \nif second == greeting:\n    print ('Good 2nd try') \nelse:\n    pass\n",
      "execution_count": 34,
      "outputs": [
        {
          "output_type": "stream",
          "name": "stdout",
          "text": "Say \"Hello\"Cat\nTry again: Hello\nGood 2nd try\n"
        }
      ]
    },
    {
      "metadata": {},
      "cell_type": "markdown",
      "source": "## String comparison with if statement"
    },
    {
      "metadata": {
        "trusted": true
      },
      "cell_type": "code",
      "source": "msg = \"Save the notebook\"\nprediction = \"save the notebook\"\n\n## msg and prediction changes to all lowercase\n## to ease comparision\n\nif msg.lower() == prediction.lower():\n    print(\"message as expected\")\nelse:\n    print(\"message not as expected\")",
      "execution_count": 35,
      "outputs": [
        {
          "output_type": "stream",
          "text": "message as expected\n",
          "name": "stdout"
        }
      ]
    },
    {
      "metadata": {
        "trusted": true
      },
      "cell_type": "code",
      "source": "l_name = input('enter last name: ')\n\nif l_name.lower() <= 'c':\n    print ('welcome to the a,b,c line')\nelse:\n    print ('Sorry, this is the a,b,c line')",
      "execution_count": 37,
      "outputs": [
        {
          "output_type": "stream",
          "name": "stdout",
          "text": "enter last name: Kll\nSorry, this is the a,b,c line\n"
        }
      ]
    },
    {
      "metadata": {
        "trusted": true
      },
      "cell_type": "code",
      "source": "question = input('What is 8 + 13 ? ')\n\nif question == 21:\n    print (\"Correct Answer\")\n    \nelse:\n    print (\"Correct Answer is 21\")",
      "execution_count": 38,
      "outputs": [
        {
          "output_type": "stream",
          "name": "stdout",
          "text": "What is 8 + 13 ? 22\nCorrect Answer is 21\n"
        }
      ]
    },
    {
      "metadata": {
        "trusted": true
      },
      "cell_type": "code",
      "source": "def tf_quiz():\n    que1 = 'is the sky blue?'\n    que1= input ('What is the color of the sky? ')\n    if que1 == \"blue\":\n        print('correct')\n    else:\n        print('incorrect')\n\ntf_quiz()",
      "execution_count": 41,
      "outputs": [
        {
          "output_type": "stream",
          "name": "stdout",
          "text": "What is the color of the sky? orange\nincorrect\n"
        }
      ]
    },
    {
      "metadata": {},
      "cell_type": "markdown",
      "source": "## Creating a question bank"
    },
    {
      "metadata": {
        "trusted": true
      },
      "cell_type": "code",
      "source": "question = \"octupuses have eight limbs(T/F)\",\"octupuses have blue blood(T/F)\"\nanswer = \"t\", \"t\"\n\ndef tf_quiz(question,answer):\n    if input(question).lower()== answer.lower():\n        return('correct')\n    else:\n        return(\"incorrect\")\n    \nquiz_eval = tf_quiz(\"octupuses have blue blood(T/F)\", \"t\")\nprint (\"Your answer is\", quiz_eval)",
      "execution_count": 3,
      "outputs": [
        {
          "output_type": "stream",
          "name": "stdout",
          "text": "octupuses have blue blood(T/F)f\nYour answer is incorrect\n"
        }
      ]
    },
    {
      "metadata": {},
      "cell_type": "markdown",
      "source": "## elif - it is an elseif statement\nAllowing us to test for multiple if conditions"
    },
    {
      "metadata": {
        "trusted": true
      },
      "cell_type": "code",
      "source": "# SECRET NUMBER GUESS\nsecret_num = \"2\"\n\nguess = input(\"Enter a guess for the secret number (1-3): \")\n\nif guess.isdigit() == False:\n    print(\"Invalid: guess should only use digits\")\nelif guess == \"1\":\n    print(\"Guess is too low\")\nelif guess == secret_num:\n    print(\"Guess is right\")\nelif guess == \"3\":\n    print(\"Guess is too high\")\nelse:\n    print(guess, \"is not a valid guess (1-3)\")",
      "execution_count": 4,
      "outputs": [
        {
          "output_type": "stream",
          "name": "stdout",
          "text": "Enter a guess for the secret number (1-3): 2\nGuess is right\n"
        }
      ]
    },
    {
      "metadata": {},
      "cell_type": "markdown",
      "source": "## To check Shirt sizes input"
    },
    {
      "metadata": {
        "trusted": true
      },
      "cell_type": "code",
      "source": "shirt_size = input('Input your size S,M,L: ')\n\nif shirt_size.upper() == \"S\":\n    print(\"Small = $6 \")\nelif shirt_size.upper() == \"M\":\n    print(\"Medium = $7\")\nelif shirt_size.upper() == \"L\":\n    print(\"Large = $8\")\nelif shirt_size.isdigit() == True:\n    print(\"Please provide S,M or L\")\nelse:\n    print('Not avail')",
      "execution_count": 17,
      "outputs": [
        {
          "output_type": "stream",
          "name": "stdout",
          "text": "Input your size S,M,L: s\nSmall = $6 \n"
        }
      ]
    },
    {
      "metadata": {
        "trusted": true
      },
      "cell_type": "markdown",
      "source": "## Casting\n##int() - cast to convert a string to an integer\n##str() - cast to convert an int to a string\n##float() - cast to convert an int to a float (decimal)"
    },
    {
      "metadata": {
        "trusted": true
      },
      "cell_type": "code",
      "source": "## Notice the print statement has a + so the result variable is converted to string\n\nstr_num_1 = \"11\"\nstr_num_2 = \"15\"\nint_num_3 = 10\n\nresult = int(str_num_1)+int(str_num_2)+int_num_3\nprint('the total is '+ str(result))",
      "execution_count": 5,
      "outputs": [
        {
          "output_type": "stream",
          "text": "the total is 36\n",
          "name": "stdout"
        }
      ]
    },
    {
      "metadata": {
        "trusted": true
      },
      "cell_type": "code",
      "source": "str_integer = '2'\nint_number = 3\nnumber_total = int_number + int(str_integer)\nprint(number_total)",
      "execution_count": 6,
      "outputs": [
        {
          "output_type": "stream",
          "text": "5\n",
          "name": "stdout"
        }
      ]
    },
    {
      "metadata": {
        "trusted": true
      },
      "cell_type": "code",
      "source": "int_1 = input('enter an integer number to add? ')\nint_2 = input('enter the second integer to add? ')\n\nif int_1.isalpha() or int_2.isalpha() == True:\n    input(\"Please enter a number not a word..\")\nelse:\n    total_value = int(int_1)+int(int_2)\n    print (int_1,\"+\",int_2,\"+\", total_value)\n    ",
      "execution_count": 15,
      "outputs": [
        {
          "output_type": "stream",
          "name": "stdout",
          "text": "enter an integer number to add? a\nenter the second integer to add? 1\nPlease enter a number not a word..1\n"
        }
      ]
    },
    {
      "metadata": {},
      "cell_type": "markdown",
      "source": "## Math basic operators"
    },
    {
      "metadata": {
        "trusted": true
      },
      "cell_type": "code",
      "source": "def million_maker():\n    make_big = input(\"enter a non-decimal number you wish were bigger: \")\n    return int(make_big)*1000000\n\nprint(\"Now you have\", million_maker())",
      "execution_count": 16,
      "outputs": [
        {
          "output_type": "stream",
          "name": "stdout",
          "text": "enter a non-decimal number you wish were bigger: 3\nNow you have 3000000\n"
        }
      ]
    },
    {
      "metadata": {
        "trusted": true
      },
      "cell_type": "code",
      "source": "print(int(156/12))",
      "execution_count": 19,
      "outputs": [
        {
          "output_type": "stream",
          "text": "13\n",
          "name": "stdout"
        }
      ]
    },
    {
      "metadata": {
        "trusted": true
      },
      "cell_type": "code",
      "source": "## function that multiplies and prints result\n\ndef multiply():\n    num_1 = input(\"enter 1st number to multiply: \")\n    num_2 = input(\"enter 2nd number to multiply: \")\n    value = int(num_1) * int(num_2)\n    return print (str(num_1), \"*\",str(num_2) ,\"=\", str(value))",
      "execution_count": 25,
      "outputs": []
    },
    {
      "metadata": {
        "trusted": true
      },
      "cell_type": "code",
      "source": "multiply()",
      "execution_count": 26,
      "outputs": [
        {
          "output_type": "stream",
          "name": "stdout",
          "text": "enter 1st number to multiply: 2\nenter 2nd number to multiply: 3\n2 * 3 = 6\n"
        }
      ]
    },
    {
      "metadata": {},
      "cell_type": "markdown",
      "source": "## Divides or Multiplies"
    },
    {
      "metadata": {
        "trusted": true
      },
      "cell_type": "code",
      "source": "num_1 = float(input(\"enter 1st number to multiply: \"))\nnum_2 = float(input(\"enter 2nd number to multiply: \"))\noperator = input('Please add / or *')\nmultiplied = int(num_1) * int(num_2)\ndivided = int(num_1) / int(num_2)\n\ndef multiply(operator):\n    if operator == \"/\":\n        return print (str(num_1), operator, str(num_2), \"=\", str(divided))\n    elif operator == \"*\":\n        return print (str(num_1), operator, str(num_2), \"=\" ,str(multiplied))\n    else:\n        return(\"please only use -  / or *\")\n        \nmultiply(operator)",
      "execution_count": 4,
      "outputs": [
        {
          "output_type": "stream",
          "name": "stdout",
          "text": "enter 1st number to multiply: 2\nenter 2nd number to multiply: 4\nPlease add / or */\n2.0 / 4.0 = 0.5\n"
        }
      ]
    },
    {
      "metadata": {},
      "cell_type": "markdown",
      "source": "## Calculator for 2 digit basic math operators"
    },
    {
      "metadata": {
        "trusted": true
      },
      "cell_type": "code",
      "source": "num_1 = float(input('Enter 1st number: '))\nnum_2 = float(input('Enter 2nd number: '))\ndivide = int(num_1) / int(num_2)\nmultiply = int(num_1) * int(num_2)\nadd = int(num_1) + int(num_2)\nsubtract = int(num_1) - int(num_2)\noperator = input('Please enter operator from / * + -  :')\n\ndef calc(operator):\n    if operator == '/':\n        return print(str(num_1), operator, str(num_2), \"=\", divide)\n    elif operator == '*':\n        return print(str(num_1), operator, str(num_2), \"=\", multiply)\n    elif operator == '+':\n        return print(str(num_1), operator, str(num_2), \"=\", add)\n    elif operator == '-':\n        return print(str(num_1), operator, str(num_2), \"=\", subtract)\n    else:\n        return ('Invalid operator')\n    \ncalc(operator)\n    ",
      "execution_count": 5,
      "outputs": [
        {
          "output_type": "stream",
          "name": "stdout",
          "text": "Enter 1st number: 2\nEnter 2nd number: 3\nPlease enter operator from / * + -  :+\n2.0 + 3.0 = 5\n"
        }
      ]
    },
    {
      "metadata": {
        "trusted": true
      },
      "cell_type": "code",
      "source": "number = input (\"Please input a number: \")\n\nif number.isdigit() == False:\n    print ('only integer accepted')\nelse:\n    print (number,\"Greater than 100 is =\",int(number) >= 100)\n",
      "execution_count": 1,
      "outputs": [
        {
          "output_type": "stream",
          "name": "stdout",
          "text": "Please input a number: 3\n3 Greater than 100 is = False\n"
        }
      ]
    },
    {
      "metadata": {
        "trusted": true
      },
      "cell_type": "code",
      "source": "",
      "execution_count": null,
      "outputs": []
    }
  ],
  "metadata": {
    "kernelspec": {
      "name": "python3",
      "display_name": "Python 3",
      "language": "python"
    },
    "language_info": {
      "mimetype": "text/x-python",
      "nbconvert_exporter": "python",
      "name": "python",
      "pygments_lexer": "ipython3",
      "version": "3.5.4",
      "file_extension": ".py",
      "codemirror_mode": {
        "version": 3,
        "name": "ipython"
      }
    }
  },
  "nbformat": 4,
  "nbformat_minor": 2
}